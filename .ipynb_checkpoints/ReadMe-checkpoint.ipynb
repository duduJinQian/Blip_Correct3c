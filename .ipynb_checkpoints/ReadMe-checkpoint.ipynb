{
 "cells": [
  {
   "cell_type": "markdown",
   "id": "7c02ebbc-f5d6-4026-b0ff-dce76599c43f",
   "metadata": {
    "tags": []
   },
   "source": [
    "\n",
    "## 代码介绍\n",
    "\n",
    "   \n",
    "- 代码旨在完成对于学生作文图片，识别出错字、别字、并根据上下文进行错字的纠正的任务，具体见BLIP文件夹。\n",
    "- 采用模型: blip-image-captioning-base\n",
    "- 参数微调方法： Lora    \n",
    "\n",
    "```\n",
    "python\n",
    "\n",
    "# 模型训练 见脚本： train_blip.ipynb\n",
    "\n",
    "# 虽然训练完成但有问题：由于BLIP不支持很多中文字符的tokenizer，代码仍在修正中。\n",
    "```\n",
    "\n",
    "## 背景介绍\n",
    "\n",
    "   该任务来自于 NLPCC2024 会议中 Task1：Task 1 - Visual Chinese Character Checking（见下说明），Task1的数据集的参考论文为：Towards Real-World Writing Assistance: A Chinese Character Checking Benchmark with Faked and Misspelled Characters。 该任务主要目标是根据学生作文图片，识别出错字、别字、并根据上下文进行错字的纠正。\n",
    "   \n",
    "<big>*Task说明*</big>\n",
    "\n",
    "In the real world where handwriting occupies the vast majority, characters that humans get wrong include faked characters\n",
    "(i.e., untrue characters created due to writing errors) and misspelled characters (i.e., true characters used incorrectly due to spelling errors), \n",
    "as illustrated in Figure 1. Visual Chinese Character Checking task aims at detecting and correcting wrong characters in the given text on an image in real-world scenarios. \n",
    "This task focuses on correcting characters based on a human-annotated Visual Chinese Character Checking dataset with faked and misspelled Chinese characters.\n",
    "\n",
    "\n",
    "\n",
    "![task1](task1_1.PNG)\n",
    "\n",
    "\n",
    "  以上参考论文中实现了2种基准方法，这2类基准方法均采用Detection+Correction结构处理处理预测数据。方法1利用文本识别 + 文本生成的方法，而方法2利用文本分割+多模态模型+文本生成的方法。方法1及方法2的效果都不是很理想。\n",
    "\n",
    "<big>*参考论文方法*</big>\n",
    "\n",
    "![method](methods_1.PNG)\n",
    "\n",
    "\n",
    "<big>*参考论文效果*</big>\n",
    "\n",
    "![effect](effect_1.PNG)\n"
   ]
  },
  {
   "cell_type": "markdown",
   "id": "4d1b3c9e-045c-4810-8b50-673d3316ff3d",
   "metadata": {},
   "source": [
    "\n",
    "\n"
   ]
  },
  {
   "cell_type": "code",
   "execution_count": null,
   "id": "a41922a8-537c-41ab-be8c-6dd15baabed1",
   "metadata": {},
   "outputs": [],
   "source": []
  },
  {
   "cell_type": "code",
   "execution_count": null,
   "id": "69071b09-4c4c-42bd-9c1a-371fd3b3a148",
   "metadata": {},
   "outputs": [],
   "source": []
  }
 ],
 "metadata": {
  "kernelspec": {
   "display_name": "Python [conda env:ultra]",
   "language": "python",
   "name": "conda-env-ultra-py"
  },
  "language_info": {
   "codemirror_mode": {
    "name": "ipython",
    "version": 3
   },
   "file_extension": ".py",
   "mimetype": "text/x-python",
   "name": "python",
   "nbconvert_exporter": "python",
   "pygments_lexer": "ipython3",
   "version": "3.9.19"
  }
 },
 "nbformat": 4,
 "nbformat_minor": 5
}
