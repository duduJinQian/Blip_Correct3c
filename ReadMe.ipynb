{
 "cells": [
  {
   "cell_type": "code",
   "execution_count": null,
   "id": "6016ec3e-0081-4bbb-804f-8735b9671eab",
   "metadata": {},
   "outputs": [],
   "source": []
  },
  {
   "cell_type": "markdown",
   "id": "f22848ad-a58d-4a35-ab3a-ad6583a64e04",
   "metadata": {
    "tags": []
   },
   "source": [
    "\n",
    "## 代码介绍\n",
    "\n",
    "   \n",
    "- 代码旨在完成对于学生作文图片，识别出错字、别字、并根据上下文进行错字的纠正的任务，具体见BLIP文件夹。\n",
    "- 采用模型: blip-image-captioning-base\n",
    "- 主要难点：修改扩展英文的 blip模型，训练得到中文blip模型。\n",
    "- 由于Blip是针对英文训练的，故需要将 blip-image-captioning-base 下的 tokenizer.json 及  vocab.txt 换为本项目中的tokenizer.json 及  vocab.txt，且进行多轮训练更新权重。 \n",
    "\n",
    "\n",
    "```\n",
    "python\n",
    "\n",
    "# train 见脚本： train_blip.ipynb\n",
    "# predict 见下\n",
    "\n",
    "import os\n",
    "from PIL import Image\n",
    "import torch\n",
    "from torch.utils.data import DataLoader, Dataset\n",
    "from transformers import AutoModelForVision2Seq,AutoProcessor\n",
    "device = torch.device(\"cuda\" if torch.cuda.is_available() else \"cpu\")\n",
    "\n",
    "model_id = \"Salesforce/blip-image-captioning-base\"\n",
    "processor = AutoProcessor.from_pretrained(model_id)\n",
    "\n",
    "\n",
    "# Load model and processor\n",
    "model_path = './caption_result_new/'\n",
    "model = AutoModelForVision2Seq.from_pretrained(model_path)\n",
    "model.to(device)\n",
    "\n",
    "\n",
    "model.eval()\n",
    "\n",
    "image_path = os.path.join('/root/autodl-tmp/blip/c3data/imgs/1430_0005.jpg')\n",
    "image = Image.open(image_path).convert('RGB')\n",
    "image.show()\n",
    "\n",
    "pixel_values = processor(images=image, return_tensors=\"pt\").pixel_values.to(device)\n",
    "generated_output = model.generate(pixel_values=pixel_values,max_length=512)\n",
    "\n",
    "generated_caption = processor.batch_decode(generated_output[0], skip_special_tokens=True)\n",
    "print(generated_caption)\n",
    "\n",
    "\n",
    "```\n",
    "![predict](predict.PNG)\n",
    "\n",
    "\n",
    "## 背景介绍\n",
    "\n",
    "   该任务来自于 NLPCC2024 会议中 Task1：Task 1 - Visual Chinese Character Checking（见下说明），Task1的数据集的参考论文为：Towards Real-World Writing Assistance: A Chinese Character Checking Benchmark with Faked and Misspelled Characters。 该任务主要目标是根据学生作文图片，识别出错字、别字、并根据上下文进行错字的纠正。\n",
    "   \n",
    "<big>*Task说明*</big>\n",
    "\n",
    "In the real world where handwriting occupies the vast majority, characters that humans get wrong include faked characters\n",
    "(i.e., untrue characters created due to writing errors) and misspelled characters (i.e., true characters used incorrectly due to spelling errors), \n",
    "as illustrated in Figure 1. Visual Chinese Character Checking task aims at detecting and correcting wrong characters in the given text on an image in real-world scenarios. \n",
    "This task focuses on correcting characters based on a human-annotated Visual Chinese Character Checking dataset with faked and misspelled Chinese characters.\n",
    "\n",
    "\n",
    "\n",
    "![task1](task1_1.PNG)\n",
    "\n",
    "\n",
    "  以上参考论文中实现了2种基准方法，这2类基准方法均采用Detection+Correction结构处理处理预测数据。方法1利用文本识别 + 文本生成的方法，而方法2利用文本分割+多模态模型+文本生成的方法。\n",
    "  \n",
    "  方法1及方法2的效果都不是很理想。故这里采用多模态的blip模型进行尝试。多模态算法选择方面，由于CLIP是encoder-based model，没有decode过程，不适合用于文本生成的任务，而BLIP模型采用Multimodal mixture of Encoder-Decoder (MED)结构，有decode部分，所以利用blip进行文本生成尝试。"
   ]
  },
  {
   "cell_type": "code",
   "execution_count": null,
   "id": "e7a70557-7371-415a-af9d-7d7a49c4f1e2",
   "metadata": {},
   "outputs": [],
   "source": []
  },
  {
   "cell_type": "code",
   "execution_count": null,
   "id": "1d40e74a-fc3b-4f1a-89d0-a4c349e3913b",
   "metadata": {},
   "outputs": [],
   "source": []
  },
  {
   "cell_type": "code",
   "execution_count": null,
   "id": "a1ec541b-4273-4ce5-ab6c-999b8a416952",
   "metadata": {},
   "outputs": [],
   "source": []
  }
 ],
 "metadata": {
  "kernelspec": {
   "display_name": "Python [conda env:transformers]",
   "language": "python",
   "name": "conda-env-transformers-py"
  },
  "language_info": {
   "codemirror_mode": {
    "name": "ipython",
    "version": 3
   },
   "file_extension": ".py",
   "mimetype": "text/x-python",
   "name": "python",
   "nbconvert_exporter": "python",
   "pygments_lexer": "ipython3",
   "version": "3.9.19"
  }
 },
 "nbformat": 4,
 "nbformat_minor": 5
}
